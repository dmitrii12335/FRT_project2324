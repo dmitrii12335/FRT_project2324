{
 "cells": [
  {
   "cell_type": "code",
   "execution_count": 3,
   "id": "d4ef8754",
   "metadata": {},
   "outputs": [],
   "source": [
    "import numpy as np \n",
    "from scipy.stats import norm\n",
    "from scipy.stats import t\n",
    "import math\n",
    "from time import time as TIME"
   ]
  },
  {
   "cell_type": "markdown",
   "id": "b4a5e3f9",
   "metadata": {},
   "source": [
    "### Task 1"
   ]
  },
  {
   "cell_type": "code",
   "execution_count": 4,
   "id": "576d871b",
   "metadata": {},
   "outputs": [],
   "source": [
    "def H(theta, y, a, gamma):\n",
    "    ind = (y >= theta).astype(int)\n",
    "    val = 1.0 -  ind / (1-a) + 2 * gamma * theta\n",
    "    return val\n",
    "\n",
    "def single_asset(a_hat, mu, sigma, dist, df):\n",
    "\n",
    "    N = 100\n",
    "    n = 10 ** 6\n",
    "    l = 10 ** (-4)\n",
    "    beta = 10 ** 8\n",
    "    gamma = 10 ** (-8)\n",
    "\n",
    "    if dist == 'norm':\n",
    "        y = norm.rvs(loc = mu, scale = sigma, size = (n, N)) #data\n",
    "    elif dist == 't':\n",
    "        y = t.rvs(df = df, size = (n,N) ) #data\n",
    "    ksi = norm.rvs(loc = 0, scale = 1, size = (n, N)) #noise\n",
    "\n",
    "    theta_old = np.zeros(N)\n",
    "\n",
    "    for i in range(n):\n",
    "        theta_new = theta_old - l * H(theta_old, y[i], a_hat, gamma) + ksi[i] * (2 * l / beta) ** 0.5\n",
    "        theta_old = theta_new\n",
    "\n",
    "    V = np.mean( np.maximum( y.T - theta_new.reshape(N, -1), 0), 1) / (1-a_hat) + theta_new\n",
    "\n",
    "\n",
    "    return theta_new, V"
   ]
  },
  {
   "cell_type": "code",
   "execution_count": 7,
   "id": "b0124977",
   "metadata": {},
   "outputs": [
    {
     "name": "stdout",
     "output_type": "stream",
     "text": [
      "execution time in sec, 87.85585713386536\n"
     ]
    }
   ],
   "source": [
    "start = TIME()\n",
    "VaR_n_arr1, CVaR_n_arr1 = single_asset(0.95, 0, 1, 'norm', 0)\n",
    "VaR_n_arr2, CVaR_n_arr2 = single_asset(0.95, 1, 2, 'norm', 0)\n",
    "VaR_n_arr3, CVaR_n_arr3 = single_asset(0.95, 3, 5, 'norm', 0)\n",
    "VaR_n_arr11, CVaR_n_arr11 = single_asset(0.99, 0, 1, 'norm', 0)\n",
    "VaR_n_arr22, CVaR_n_arr22 = single_asset(0.99, 1, 2, 'norm', 0)\n",
    "VaR_n_arr33, CVaR_n_arr33 = single_asset(0.99, 3, 5, 'norm', 0)\n",
    "end = TIME()\n",
    "print('execution time in sec,', end - start)"
   ]
  },
  {
   "cell_type": "code",
   "execution_count": 52,
   "id": "30441163",
   "metadata": {},
   "outputs": [
    {
     "name": "stdout",
     "output_type": "stream",
     "text": [
      "execution time in sec, 128.31898641586304\n"
     ]
    }
   ],
   "source": [
    "start = TIME()\n",
    "VaR_t_arr1, CVaR_t_arr1 = single_asset(0.95, 0, 0, 't', 10)\n",
    "VaR_t_arr2, CVaR_t_arr2 = single_asset(0.95, 0, 0, 't', 7)\n",
    "VaR_t_arr3, CVaR_t_arr3 = single_asset(0.95, 0, 0, 't', 3)\n",
    "VaR_t_arr11, CVaR_t_arr11 = single_asset(0.99, 0, 0, 't', 10)\n",
    "VaR_t_arr22, CVaR_t_arr22 = single_asset(0.99, 0, 0, 't', 7)\n",
    "VaR_t_arr33, CVaR_t_arr33 = single_asset(0.99, 0, 0, 't', 3)\n",
    "end = TIME()\n",
    "print('execution time in sec,', end - start)"
   ]
  },
  {
   "cell_type": "code",
   "execution_count": 32,
   "id": "cb9f2077",
   "metadata": {},
   "outputs": [
    {
     "name": "stdout",
     "output_type": "stream",
     "text": [
      "----------------------------------------q_hat = 0.95----------------------------------------\n",
      "mu = 0, std = 1 ; VaR* 1.6450 ; CVaR* 2.0620 ; VaR_SGLD 1.6453 ( 0.021 ) ; CVaR_SGLD 2.0632 ( 0.0027 )\n",
      "mu = 1, std = 2 ; VaR* 4.2900 ; CVaR* 5.1240 ; VaR_SGLD 4.2934 ( 0.031 ) ; CVaR_SGLD 5.1259 ( 0.0047 )\n",
      "mu = 3, std = 5 ; VaR* 11.224 ; CVaR* 13.311 ; VaR_SGLD 11.227 ( 0.043 ) ; CVaR_SGLD 13.315 ( 0.0102 )\n",
      "\n",
      "\n",
      "----------------------------------------q_hat = 0.99----------------------------------------\n",
      "mu = 0, std = 1 ; VaR* 2.2360 ; CVaR* 2.6770 ; VaR_SGLD 2.3304 ( 0.043 ) ; CVaR_SGLD 2.6672 ( 0.0053 )\n",
      "mu = 1, std = 2 ; VaR* 5.6530 ; CVaR* 6.3350 ; VaR_SGLD 5.6549 ( 0.059 ) ; CVaR_SGLD 6.3318 ( 0.0107 )\n",
      "mu = 3, std = 5 ; VaR* 14.623 ; CVaR* 16.337 ; VaR_SGLD 11.227 ( 0.101 ) ; CVaR_SGLD 16.330 ( 0.0228 )\n"
     ]
    }
   ],
   "source": [
    "print('----------------------------------------q_hat = 0.95----------------------------------------')\n",
    "print('mu = 0, std = 1', ';','VaR*',  \"{:.4f}\".format(1.645), ';', 'CVaR*', \"{:.4f}\".format(2.062), ';','VaR_SGLD', \"{:.4f}\".format(np.mean(VaR_n_arr1)), '(',\"{:.3f}\".format(np.std(VaR_n_arr1)), ')', ';', 'CVaR_SGLD', \"{:.4f}\".format(np.mean(CVaR_n_arr1)), '(',\"{:.4f}\".format(np.std(CVaR_n_arr1)), ')')\n",
    "print('mu = 1, std = 2', ';','VaR*', \"{:.4f}\".format(4.290), ';','CVaR*', \"{:.4f}\".format(5.124), ';','VaR_SGLD', \"{:.4f}\".format(np.mean(VaR_n_arr2)), '(',\"{:.3f}\".format(np.std(VaR_n_arr2)), ')',  ';','CVaR_SGLD', \"{:.4f}\".format(np.mean(CVaR_n_arr2)), '(',\"{:.4f}\".format(np.std(CVaR_n_arr2)), ')')\n",
    "print('mu = 3, std = 5', ';','VaR*', 11.224, ';','CVaR*', 13.311, ';','VaR_SGLD', \"{:.3f}\".format(np.mean(VaR_n_arr3)), '(',\"{:.3f}\".format(np.std(VaR_n_arr3)), ')',  ';','CVaR_SGLD', \"{:.3f}\".format(np.mean(CVaR_n_arr3)), '(',\"{:.4f}\".format(np.std(CVaR_n_arr3)), ')')\n",
    "print('\\n')\n",
    "print('----------------------------------------q_hat = 0.99----------------------------------------')\n",
    "print('mu = 0, std = 1', ';', 'VaR*', \"{:.4f}\".format(2.236), ';', 'CVaR*', \"{:.4f}\".format(2.677), ';','VaR_SGLD', \"{:.4f}\".format(np.mean(VaR_n_arr11)), '(',\"{:.3f}\".format(np.std(VaR_n_arr11)), ')', ';','CVaR_SGLD', \"{:.4f}\".format(np.mean(CVaR_n_arr11)), '(',\"{:.4f}\".format(np.std(CVaR_n_arr11)), ')')\n",
    "print('mu = 1, std = 2', ';', 'VaR*', \"{:.4f}\".format(5.653), ';', 'CVaR*', \"{:.4f}\".format(6.335), ';','VaR_SGLD', \"{:.4f}\".format(np.mean(VaR_n_arr22)), '(',\"{:.3f}\".format(np.std(VaR_n_arr22)), ')',  ';', 'CVaR_SGLD', \"{:.4f}\".format(np.mean(CVaR_n_arr22)), '(',\"{:.4f}\".format(np.std(CVaR_n_arr22)), ')')\n",
    "print('mu = 3, std = 5', ';', 'VaR*', 14.623, ';', 'CVaR*', 16.337, ';','VaR_SGLD', \"{:.3f}\".format(np.mean(VaR_n_arr3)), '(',\"{:.3f}\".format(np.std(VaR_n_arr33)), ')',  ';','CVaR_SGLD', \"{:.3f}\".format(np.mean(CVaR_n_arr33)), '(',\"{:.4f}\".format(np.std(CVaR_n_arr33)), ')')"
   ]
  },
  {
   "cell_type": "code",
   "execution_count": 54,
   "id": "d1012576",
   "metadata": {},
   "outputs": [
    {
     "name": "stdout",
     "output_type": "stream",
     "text": [
      "----------------------------------------q_hat = 0.95----------------------------------------\n",
      "df = 10 ; VaR* 1.812 ; CVaR* 2.416 ; VaR_SGLD 1.810 ( 0.022 ) ; CVaR_SGLD 2.409 ( 0.0037 )\n",
      "df = 7  ; VaR* 1.895 ; CVaR* 2.595 ; VaR_SGLD 1.900 ( 0.023 ) ; CVaR_SGLD 2.596 ( 0.0042 )\n",
      "df = 3  ; VaR* 2.353 ; CVaR* 3.876 ; VaR_SGLD 2.354 ( 0.030 ) ; CVaR_SGLD 3.874 ( 0.0149 )\n",
      "\n",
      "\n",
      "----------------------------------------q_hat = 0.99----------------------------------------\n",
      "df = 10 ; VaR* 2.764 ; CVaR* 3.357 ; VaR_SGLD 2.763 ( 0.048 ) ; CVaR_SGLD 3.365 ( 0.0098 )\n",
      "df = 7  ; VaR* 2.998 ; CVaR* 3.757 ; VaR_SGLD 3.003 ( 0.058 ) ; CVaR_SGLD 3.770 ( 0.0119 )\n",
      "df = 3  ; VaR* 4.541 ; CVaR* 6.968 ; VaR_SGLD 4.533 ( 0.103 ) ; CVaR_SGLD 7.006 ( 0.0427 )\n"
     ]
    }
   ],
   "source": [
    "print('----------------------------------------q_hat = 0.95----------------------------------------')\n",
    "print('df = 10', ';','VaR*',  \"{:.3f}\".format(1.812), ';', 'CVaR*', \"{:.3f}\".format(2.416), ';','VaR_SGLD', \"{:.3f}\".format(np.mean(VaR_t_arr1)), '(',\"{:.3f}\".format(np.std(VaR_t_arr1)), ')', ';', 'CVaR_SGLD', \"{:.3f}\".format(np.mean(CVaR_t_arr1)), '(',\"{:.4f}\".format(np.std(CVaR_t_arr1)), ')')\n",
    "print('df = 7 ', ';','VaR*', \"{:.3f}\".format(1.895), ';','CVaR*', \"{:.3f}\".format(2.595), ';','VaR_SGLD', \"{:.3f}\".format(np.mean(VaR_t_arr2)), '(',\"{:.3f}\".format(np.std(VaR_t_arr2)), ')',  ';','CVaR_SGLD', \"{:.3f}\".format(np.mean(CVaR_t_arr2)), '(',\"{:.4f}\".format(np.std(CVaR_t_arr2)), ')')\n",
    "print('df = 3 ', ';','VaR*', 2.353, ';','CVaR*', 3.876, ';','VaR_SGLD', \"{:.3f}\".format(np.mean(VaR_t_arr3)), '(',\"{:.3f}\".format(np.std(VaR_t_arr3)), ')',  ';','CVaR_SGLD', \"{:.3f}\".format(np.mean(CVaR_t_arr3)), '(',\"{:.4f}\".format(np.std(CVaR_t_arr3)), ')')\n",
    "print('\\n')\n",
    "print('----------------------------------------q_hat = 0.99----------------------------------------')\n",
    "print('df = 10', ';', 'VaR*', \"{:.3f}\".format(2.764), ';', 'CVaR*', \"{:.3f}\".format(3.357), ';','VaR_SGLD', \"{:.3f}\".format(np.mean(VaR_t_arr11)), '(',\"{:.3f}\".format(np.std(VaR_t_arr11)), ')', ';','CVaR_SGLD', \"{:.3f}\".format(np.mean(CVaR_t_arr11)), '(',\"{:.4f}\".format(np.std(CVaR_t_arr11)), ')')\n",
    "print('df = 7 ', ';', 'VaR*', \"{:.3f}\".format(2.998), ';', 'CVaR*', \"{:.3f}\".format(3.757), ';','VaR_SGLD', \"{:.3f}\".format(np.mean(VaR_t_arr22)), '(',\"{:.3f}\".format(np.std(VaR_t_arr22)), ')',  ';', 'CVaR_SGLD', \"{:.3f}\".format(np.mean(CVaR_t_arr22)), '(',\"{:.4f}\".format(np.std(CVaR_t_arr22)), ')')\n",
    "print('df = 3 ', ';', 'VaR*', 4.541, ';', 'CVaR*', 6.968, ';','VaR_SGLD', \"{:.3f}\".format(np.mean(VaR_t_arr33)), '(',\"{:.3f}\".format(np.std(VaR_t_arr33)), ')',  ';','CVaR_SGLD', \"{:.3f}\".format(np.mean(CVaR_t_arr33)), '(',\"{:.4f}\".format(np.std(CVaR_t_arr33)), ')')"
   ]
  },
  {
   "cell_type": "code",
   "execution_count": null,
   "id": "e6045aa0",
   "metadata": {},
   "outputs": [],
   "source": []
  },
  {
   "cell_type": "markdown",
   "id": "4bfff394",
   "metadata": {},
   "source": [
    "### Task 2"
   ]
  },
  {
   "cell_type": "code",
   "execution_count": 4,
   "id": "73a4e40a",
   "metadata": {},
   "outputs": [],
   "source": [
    "def weight(W):\n",
    "    val = np.exp(W) / np.sum(np.exp(W))\n",
    "    return val\n",
    "\n",
    "def H1(theta, y, W, gamma):\n",
    "    a_hat = 0.95\n",
    "    indicator = 1.0 if np.sum(weight(W) * y) >= theta else 0.0 #(np.sum(Weight(W) * y) >= theta).astype(int)\n",
    "    \n",
    "    val1 = 1.0 - 1.0 / (1.0 - a_hat) * indicator + 2.0 * gamma * theta #number\n",
    "    \n",
    "    L = len(W)\n",
    "    H = np.zeros(L)\n",
    "    for j in range(L):\n",
    "        g_hat = 0\n",
    "        \n",
    "        for i in range(L):\n",
    "            if i == j:\n",
    "                der = np.exp(W[j]) * np.sum(np.exp(np.delete(W,j))) / (np.sum(np.exp(W))) ** 2\n",
    "            else:\n",
    "                der = -np.exp(W[i]) * np.exp(W[j]) / (np.sum(np.exp(W))) ** 2\n",
    "            g_hat += y[i] * der\n",
    "            \n",
    "        H[j] = 1.0 / (1.0 - a_hat) * indicator * g_hat + 2.0 * gamma * W[j]\n",
    "    return np.insert(H, 0, val1)\n",
    "\n",
    "def ref_val(y):\n",
    "    N = 100\n",
    "    w = np.linspace(0, 1, N)\n",
    "    res = 10 ** 8\n",
    "    for i in range(N):\n",
    "        w1 = w[i]\n",
    "        for j in range(N):\n",
    "            w2 = w[j]\n",
    "            w3 = 1.0 - w1 - w2\n",
    "\n",
    "            portfolio_LP = w1 * y[0] + w2 * y[1] + w3 * y[2]\n",
    "\n",
    "            VaR = np.quantile(portfolio_LP, 0.95)\n",
    "            CVaR = np.mean(portfolio_LP[portfolio_LP >= VaR])\n",
    "\n",
    "            if CVaR <= res:\n",
    "                res = CVaR\n",
    "                res_arr = [w1, w2, w3, VaR, CVaR]\n",
    "    return res_arr\n"
   ]
  },
  {
   "cell_type": "code",
   "execution_count": 5,
   "id": "0a379c45",
   "metadata": {},
   "outputs": [],
   "source": [
    "def multi_assets(params):\n",
    "    mu1, var1, mu2, var2, mu3, var3 = params\n",
    "\n",
    "    n = 10 ** 6\n",
    "    l = 10 ** (-4)\n",
    "    beta = 10 ** 8\n",
    "    gamma = 10 ** (-8)\n",
    "    a_hat = 0.95\n",
    "    m = 3 #assets number\n",
    "\n",
    "    y1 = norm.rvs(loc = mu1, scale = var1**0.5, size = n) #data 1st asset\n",
    "    y2 = norm.rvs(loc = mu2, scale = var2**0.5, size = n) #data 2st asset\n",
    "    y3 = norm.rvs(loc = mu3, scale = var3**0.5, size = n) #data 3st asset\n",
    "    y = np.array([y1, y2, y3])\n",
    "    y_T = y.T\n",
    "    ksi = norm.rvs(loc = 0, scale = 1, size = (n, m+1)) #noise\n",
    "\n",
    "    theta_old = np.zeros(m+1)\n",
    "\n",
    "    for i in range(n):\n",
    "        theta_new = theta_old - l * H1(theta_old[0], y_T[i], theta_old[1:], gamma) + ksi[i] * (2 * l / beta) ** 0.5\n",
    "        theta_old = theta_new\n",
    "\n",
    "    V = np.mean(np.maximum(weight(theta_new[1:]) @ y - theta_new[0], 0)) / (1-a_hat) + theta_new[0]\n",
    "\n",
    "    return weight(theta_new[1:]), theta_new[0], V, ref_val(y)"
   ]
  },
  {
   "cell_type": "code",
   "execution_count": null,
   "id": "6b46f8d2",
   "metadata": {},
   "outputs": [],
   "source": []
  },
  {
   "cell_type": "code",
   "execution_count": 13,
   "id": "d8e8bc28",
   "metadata": {},
   "outputs": [
    {
     "name": "stdout",
     "output_type": "stream",
     "text": [
      "(array([6.95073828e-06, 3.01745692e-06, 9.99990032e-01]), 0.02343955384217421, 0.025679992040724478)\n",
      "[0.0, 0.0, 1.0, 0.016449095894498177, 0.020637334524107206]\n",
      "94.90452909469604\n"
     ]
    }
   ],
   "source": [
    "start = TIME()\n",
    "res = multi_assets([500, 1, 0, 10**6, 0, 10**-4])\n",
    "print(res[:-1])\n",
    "print(res[-1])\n",
    "end = TIME()\n",
    "print(end - start)"
   ]
  },
  {
   "cell_type": "code",
   "execution_count": 16,
   "id": "6845727e",
   "metadata": {},
   "outputs": [
    {
     "name": "stdout",
     "output_type": "stream",
     "text": [
      "(array([8.64348681e-06, 1.94437794e-05, 9.99971913e-01]), 1.6647200245358602, 2.0685504923752407)\n",
      "[0.0, 0.0, 1.0, 1.6473975706496953, 2.063613538535911]\n",
      "93.98094010353088\n"
     ]
    }
   ],
   "source": [
    "start = TIME()\n",
    "res = multi_assets([500, 1, 0, 10**6, 0, 1])\n",
    "print(res[:-1])\n",
    "print(res[-1])\n",
    "end = TIME()\n",
    "print(end - start)"
   ]
  },
  {
   "cell_type": "code",
   "execution_count": 6,
   "id": "5fc14206",
   "metadata": {},
   "outputs": [
    {
     "name": "stdout",
     "output_type": "stream",
     "text": [
      "(array([0.00156756, 0.79619441, 0.20223803]), 1.4472968061387834)\n",
      "1.8426126284193736\n",
      "48.97334027290344\n"
     ]
    }
   ],
   "source": [
    "start = TIME()\n",
    "res = multi_assets([0, 10**3, 0, 1, 0, 4])\n",
    "print(res[:-1])\n",
    "print(res[-1])\n",
    "end = TIME()\n",
    "print(end - start)"
   ]
  },
  {
   "cell_type": "code",
   "execution_count": null,
   "id": "548634f2",
   "metadata": {},
   "outputs": [],
   "source": [
    "res = multi_assets([0, 10**3, 0, 1, 0, 4])"
   ]
  },
  {
   "cell_type": "code",
   "execution_count": 1,
   "id": "0f5753e1",
   "metadata": {},
   "outputs": [
    {
     "ename": "NameError",
     "evalue": "name 'res' is not defined",
     "output_type": "error",
     "traceback": [
      "\u001b[0;31m---------------------------------------------------------------------------\u001b[0m",
      "\u001b[0;31mNameError\u001b[0m                                 Traceback (most recent call last)",
      "Input \u001b[0;32mIn [1]\u001b[0m, in \u001b[0;36m<cell line: 1>\u001b[0;34m()\u001b[0m\n\u001b[0;32m----> 1\u001b[0m \u001b[43mres\u001b[49m[\u001b[38;5;241m0\u001b[39m]\n",
      "\u001b[0;31mNameError\u001b[0m: name 'res' is not defined"
     ]
    }
   ],
   "source": [
    "res[0]"
   ]
  },
  {
   "cell_type": "code",
   "execution_count": 2,
   "id": "8190b707",
   "metadata": {},
   "outputs": [
    {
     "ename": "NameError",
     "evalue": "name 'np' is not defined",
     "output_type": "error",
     "traceback": [
      "\u001b[0;31m---------------------------------------------------------------------------\u001b[0m",
      "\u001b[0;31mNameError\u001b[0m                                 Traceback (most recent call last)",
      "Input \u001b[0;32mIn [2]\u001b[0m, in \u001b[0;36m<cell line: 1>\u001b[0;34m()\u001b[0m\n\u001b[0;32m----> 1\u001b[0m \u001b[43mnp\u001b[49m\u001b[38;5;241m.\u001b[39msum([\u001b[38;5;241m1\u001b[39m,\u001b[38;5;241m2\u001b[39m])\n",
      "\u001b[0;31mNameError\u001b[0m: name 'np' is not defined"
     ]
    }
   ],
   "source": [
    "np.sum([1,2])"
   ]
  },
  {
   "cell_type": "code",
   "execution_count": 47,
   "id": "d9775343",
   "metadata": {},
   "outputs": [
    {
     "data": {
      "text/plain": [
       "1.0067114093959733"
      ]
     },
     "execution_count": 47,
     "metadata": {},
     "output_type": "execute_result"
    }
   ],
   "source": [
    "sum(res[-2][:3])"
   ]
  },
  {
   "cell_type": "code",
   "execution_count": 37,
   "id": "e0473fed",
   "metadata": {},
   "outputs": [
    {
     "data": {
      "text/plain": [
       "1.8484435849909215"
      ]
     },
     "execution_count": 37,
     "metadata": {},
     "output_type": "execute_result"
    }
   ],
   "source": [
    "res[2]"
   ]
  },
  {
   "cell_type": "code",
   "execution_count": 38,
   "id": "7a26b3ff",
   "metadata": {},
   "outputs": [
    {
     "data": {
      "text/plain": [
       "4.111616324698849"
      ]
     },
     "execution_count": 38,
     "metadata": {},
     "output_type": "execute_result"
    }
   ],
   "source": [
    "res[-2][-1]"
   ]
  },
  {
   "cell_type": "code",
   "execution_count": 40,
   "id": "cf86c0de",
   "metadata": {},
   "outputs": [
    {
     "data": {
      "text/plain": [
       "3"
      ]
     },
     "execution_count": 40,
     "metadata": {},
     "output_type": "execute_result"
    }
   ],
   "source": [
    "res[-1]"
   ]
  },
  {
   "cell_type": "code",
   "execution_count": 41,
   "id": "eb4e98be",
   "metadata": {},
   "outputs": [],
   "source": [
    "y = res[-1]\n",
    "w1,w2,w3 = res[-2][:3]\n",
    "portfolio_LP = w1 * y[0] + w2 * y[1] + w3 * y[2]\n",
    "\n",
    "VaR = np.quantile(portfolio_LP, 0.95)\n",
    "CVaR = np.mean(portfolio_LP[portfolio_LP >= VaR])"
   ]
  },
  {
   "cell_type": "code",
   "execution_count": 42,
   "id": "a6e60fc2",
   "metadata": {
    "scrolled": true
   },
   "outputs": [
    {
     "data": {
      "text/plain": [
       "4.111616324698852"
      ]
     },
     "execution_count": 42,
     "metadata": {},
     "output_type": "execute_result"
    }
   ],
   "source": [
    "CVaR"
   ]
  },
  {
   "cell_type": "code",
   "execution_count": 43,
   "id": "830e79a1",
   "metadata": {},
   "outputs": [],
   "source": [
    "y = res[-1]\n",
    "w1,w2,w3 = res[0]\n",
    "portfolio_LP = w1 * y[0] + w2 * y[1] + w3 * y[2]\n",
    "\n",
    "VaR = np.quantile(portfolio_LP, 0.95)\n",
    "CVaR = np.mean(portfolio_LP[portfolio_LP >= VaR])"
   ]
  },
  {
   "cell_type": "code",
   "execution_count": 44,
   "id": "5327bc52",
   "metadata": {},
   "outputs": [
    {
     "data": {
      "text/plain": [
       "1.8483135292831983"
      ]
     },
     "execution_count": 44,
     "metadata": {},
     "output_type": "execute_result"
    }
   ],
   "source": [
    "CVaR"
   ]
  },
  {
   "cell_type": "code",
   "execution_count": 45,
   "id": "d28186b9",
   "metadata": {},
   "outputs": [
    {
     "data": {
      "text/plain": [
       "array([0.0015349 , 0.79823866, 0.20022644])"
      ]
     },
     "execution_count": 45,
     "metadata": {},
     "output_type": "execute_result"
    }
   ],
   "source": [
    "res[0]"
   ]
  },
  {
   "cell_type": "code",
   "execution_count": 46,
   "id": "7ead5053",
   "metadata": {},
   "outputs": [
    {
     "data": {
      "text/plain": [
       "1.472121942184292"
      ]
     },
     "execution_count": 46,
     "metadata": {},
     "output_type": "execute_result"
    }
   ],
   "source": [
    "VaR"
   ]
  },
  {
   "cell_type": "code",
   "execution_count": null,
   "id": "ff15d8c2",
   "metadata": {},
   "outputs": [],
   "source": [
    "y1 = norm.rvs(loc = mu1, scale = var1**0.5, size = n) #data 1st asset\n",
    "y2 = norm.rvs(loc = mu2, scale = var2**0.5, size = n) #data 2st asset\n",
    "y3 = norm.rvs(loc = mu3, scale = var3**0.5, size = n) #data 3st asset"
   ]
  }
 ],
 "metadata": {
  "kernelspec": {
   "display_name": "Python 3 (ipykernel)",
   "language": "python",
   "name": "python3"
  },
  "language_info": {
   "codemirror_mode": {
    "name": "ipython",
    "version": 3
   },
   "file_extension": ".py",
   "mimetype": "text/x-python",
   "name": "python",
   "nbconvert_exporter": "python",
   "pygments_lexer": "ipython3",
   "version": "3.10.13"
  }
 },
 "nbformat": 4,
 "nbformat_minor": 5
}
