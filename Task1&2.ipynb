{
 "cells": [
  {
   "cell_type": "code",
   "execution_count": 3,
   "id": "d4ef8754",
   "metadata": {},
   "outputs": [],
   "source": [
    "import numpy as np \n",
    "from scipy.stats import norm\n",
    "from scipy.stats import t\n",
    "import math\n",
    "from time import time as TIME"
   ]
  },
  {
   "cell_type": "markdown",
   "id": "b4a5e3f9",
   "metadata": {},
   "source": [
    "### Task 1"
   ]
  },
  {
   "cell_type": "code",
   "execution_count": 4,
   "id": "576d871b",
   "metadata": {},
   "outputs": [],
   "source": [
    "def H(theta, y, a, gamma):\n",
    "    ind = (y >= theta).astype(int)\n",
    "    val = 1.0 -  ind / (1-a) + 2 * gamma * theta\n",
    "    return val\n",
    "\n",
    "def single_asset(a_hat, mu, sigma, dist, df):\n",
    "\n",
    "    N = 100\n",
    "    n = 10 ** 6\n",
    "    l = 10 ** (-4)\n",
    "    beta = 10 ** 8\n",
    "    gamma = 10 ** (-8)\n",
    "\n",
    "    if dist == 'norm':\n",
    "        y = norm.rvs(loc = mu, scale = sigma, size = (n, N)) #data\n",
    "    elif dist == 't':\n",
    "        y = t.rvs(df = df, size = (n,N) ) #data\n",
    "    ksi = norm.rvs(loc = 0, scale = 1, size = (n, N)) #noise\n",
    "\n",
    "    theta_old = np.zeros(N)\n",
    "\n",
    "    for i in range(n):\n",
    "        theta_new = theta_old - l * H(theta_old, y[i], a_hat, gamma) + ksi[i] * (2 * l / beta) ** 0.5\n",
    "        theta_old = theta_new\n",
    "\n",
    "    V = np.mean( np.maximum( y.T - theta_new.reshape(N, -1), 0), 1) / (1-a_hat) + theta_new\n",
    "\n",
    "\n",
    "    return theta_new, V"
   ]
  },
  {
   "cell_type": "code",
   "execution_count": 7,
   "id": "b0124977",
   "metadata": {},
   "outputs": [
    {
     "name": "stdout",
     "output_type": "stream",
     "text": [
      "execution time in sec, 87.85585713386536\n"
     ]
    }
   ],
   "source": [
    "start = TIME()\n",
    "VaR_n_arr1, CVaR_n_arr1 = single_asset(0.95, 0, 1, 'norm', 0)\n",
    "VaR_n_arr2, CVaR_n_arr2 = single_asset(0.95, 1, 2, 'norm', 0)\n",
    "VaR_n_arr3, CVaR_n_arr3 = single_asset(0.95, 3, 5, 'norm', 0)\n",
    "VaR_n_arr11, CVaR_n_arr11 = single_asset(0.99, 0, 1, 'norm', 0)\n",
    "VaR_n_arr22, CVaR_n_arr22 = single_asset(0.99, 1, 2, 'norm', 0)\n",
    "VaR_n_arr33, CVaR_n_arr33 = single_asset(0.99, 3, 5, 'norm', 0)\n",
    "end = TIME()\n",
    "print('execution time in sec,', end - start)"
   ]
  },
  {
   "cell_type": "code",
   "execution_count": 52,
   "id": "30441163",
   "metadata": {},
   "outputs": [
    {
     "name": "stdout",
     "output_type": "stream",
     "text": [
      "execution time in sec, 128.31898641586304\n"
     ]
    }
   ],
   "source": [
    "start = TIME()\n",
    "VaR_t_arr1, CVaR_t_arr1 = single_asset(0.95, 0, 0, 't', 10)\n",
    "VaR_t_arr2, CVaR_t_arr2 = single_asset(0.95, 0, 0, 't', 7)\n",
    "VaR_t_arr3, CVaR_t_arr3 = single_asset(0.95, 0, 0, 't', 3)\n",
    "VaR_t_arr11, CVaR_t_arr11 = single_asset(0.99, 0, 0, 't', 10)\n",
    "VaR_t_arr22, CVaR_t_arr22 = single_asset(0.99, 0, 0, 't', 7)\n",
    "VaR_t_arr33, CVaR_t_arr33 = single_asset(0.99, 0, 0, 't', 3)\n",
    "end = TIME()\n",
    "print('execution time in sec,', end - start)"
   ]
  },
  {
   "cell_type": "code",
   "execution_count": 32,
   "id": "cb9f2077",
   "metadata": {},
   "outputs": [
    {
     "name": "stdout",
     "output_type": "stream",
     "text": [
      "----------------------------------------q_hat = 0.95----------------------------------------\n",
      "mu = 0, std = 1 ; VaR* 1.6450 ; CVaR* 2.0620 ; VaR_SGLD 1.6453 ( 0.021 ) ; CVaR_SGLD 2.0632 ( 0.0027 )\n",
      "mu = 1, std = 2 ; VaR* 4.2900 ; CVaR* 5.1240 ; VaR_SGLD 4.2934 ( 0.031 ) ; CVaR_SGLD 5.1259 ( 0.0047 )\n",
      "mu = 3, std = 5 ; VaR* 11.224 ; CVaR* 13.311 ; VaR_SGLD 11.227 ( 0.043 ) ; CVaR_SGLD 13.315 ( 0.0102 )\n",
      "\n",
      "\n",
      "----------------------------------------q_hat = 0.99----------------------------------------\n",
      "mu = 0, std = 1 ; VaR* 2.2360 ; CVaR* 2.6770 ; VaR_SGLD 2.3304 ( 0.043 ) ; CVaR_SGLD 2.6672 ( 0.0053 )\n",
      "mu = 1, std = 2 ; VaR* 5.6530 ; CVaR* 6.3350 ; VaR_SGLD 5.6549 ( 0.059 ) ; CVaR_SGLD 6.3318 ( 0.0107 )\n",
      "mu = 3, std = 5 ; VaR* 14.623 ; CVaR* 16.337 ; VaR_SGLD 11.227 ( 0.101 ) ; CVaR_SGLD 16.330 ( 0.0228 )\n"
     ]
    }
   ],
   "source": [
    "print('----------------------------------------q_hat = 0.95----------------------------------------')\n",
    "print('mu = 0, std = 1', ';','VaR*',  \"{:.4f}\".format(1.645), ';', 'CVaR*', \"{:.4f}\".format(2.062), ';','VaR_SGLD', \"{:.4f}\".format(np.mean(VaR_n_arr1)), '(',\"{:.3f}\".format(np.std(VaR_n_arr1)), ')', ';', 'CVaR_SGLD', \"{:.4f}\".format(np.mean(CVaR_n_arr1)), '(',\"{:.4f}\".format(np.std(CVaR_n_arr1)), ')')\n",
    "print('mu = 1, std = 2', ';','VaR*', \"{:.4f}\".format(4.290), ';','CVaR*', \"{:.4f}\".format(5.124), ';','VaR_SGLD', \"{:.4f}\".format(np.mean(VaR_n_arr2)), '(',\"{:.3f}\".format(np.std(VaR_n_arr2)), ')',  ';','CVaR_SGLD', \"{:.4f}\".format(np.mean(CVaR_n_arr2)), '(',\"{:.4f}\".format(np.std(CVaR_n_arr2)), ')')\n",
    "print('mu = 3, std = 5', ';','VaR*', 11.224, ';','CVaR*', 13.311, ';','VaR_SGLD', \"{:.3f}\".format(np.mean(VaR_n_arr3)), '(',\"{:.3f}\".format(np.std(VaR_n_arr3)), ')',  ';','CVaR_SGLD', \"{:.3f}\".format(np.mean(CVaR_n_arr3)), '(',\"{:.4f}\".format(np.std(CVaR_n_arr3)), ')')\n",
    "print('\\n')\n",
    "print('----------------------------------------q_hat = 0.99----------------------------------------')\n",
    "print('mu = 0, std = 1', ';', 'VaR*', \"{:.4f}\".format(2.236), ';', 'CVaR*', \"{:.4f}\".format(2.677), ';','VaR_SGLD', \"{:.4f}\".format(np.mean(VaR_n_arr11)), '(',\"{:.3f}\".format(np.std(VaR_n_arr11)), ')', ';','CVaR_SGLD', \"{:.4f}\".format(np.mean(CVaR_n_arr11)), '(',\"{:.4f}\".format(np.std(CVaR_n_arr11)), ')')\n",
    "print('mu = 1, std = 2', ';', 'VaR*', \"{:.4f}\".format(5.653), ';', 'CVaR*', \"{:.4f}\".format(6.335), ';','VaR_SGLD', \"{:.4f}\".format(np.mean(VaR_n_arr22)), '(',\"{:.3f}\".format(np.std(VaR_n_arr22)), ')',  ';', 'CVaR_SGLD', \"{:.4f}\".format(np.mean(CVaR_n_arr22)), '(',\"{:.4f}\".format(np.std(CVaR_n_arr22)), ')')\n",
    "print('mu = 3, std = 5', ';', 'VaR*', 14.623, ';', 'CVaR*', 16.337, ';','VaR_SGLD', \"{:.3f}\".format(np.mean(VaR_n_arr3)), '(',\"{:.3f}\".format(np.std(VaR_n_arr33)), ')',  ';','CVaR_SGLD', \"{:.3f}\".format(np.mean(CVaR_n_arr33)), '(',\"{:.4f}\".format(np.std(CVaR_n_arr33)), ')')"
   ]
  },
  {
   "cell_type": "code",
   "execution_count": 54,
   "id": "d1012576",
   "metadata": {},
   "outputs": [
    {
     "name": "stdout",
     "output_type": "stream",
     "text": [
      "----------------------------------------q_hat = 0.95----------------------------------------\n",
      "df = 10 ; VaR* 1.812 ; CVaR* 2.416 ; VaR_SGLD 1.810 ( 0.022 ) ; CVaR_SGLD 2.409 ( 0.0037 )\n",
      "df = 7  ; VaR* 1.895 ; CVaR* 2.595 ; VaR_SGLD 1.900 ( 0.023 ) ; CVaR_SGLD 2.596 ( 0.0042 )\n",
      "df = 3  ; VaR* 2.353 ; CVaR* 3.876 ; VaR_SGLD 2.354 ( 0.030 ) ; CVaR_SGLD 3.874 ( 0.0149 )\n",
      "\n",
      "\n",
      "----------------------------------------q_hat = 0.99----------------------------------------\n",
      "df = 10 ; VaR* 2.764 ; CVaR* 3.357 ; VaR_SGLD 2.763 ( 0.048 ) ; CVaR_SGLD 3.365 ( 0.0098 )\n",
      "df = 7  ; VaR* 2.998 ; CVaR* 3.757 ; VaR_SGLD 3.003 ( 0.058 ) ; CVaR_SGLD 3.770 ( 0.0119 )\n",
      "df = 3  ; VaR* 4.541 ; CVaR* 6.968 ; VaR_SGLD 4.533 ( 0.103 ) ; CVaR_SGLD 7.006 ( 0.0427 )\n"
     ]
    }
   ],
   "source": [
    "print('----------------------------------------q_hat = 0.95----------------------------------------')\n",
    "print('df = 10', ';','VaR*',  \"{:.3f}\".format(1.812), ';', 'CVaR*', \"{:.3f}\".format(2.416), ';','VaR_SGLD', \"{:.3f}\".format(np.mean(VaR_t_arr1)), '(',\"{:.3f}\".format(np.std(VaR_t_arr1)), ')', ';', 'CVaR_SGLD', \"{:.3f}\".format(np.mean(CVaR_t_arr1)), '(',\"{:.4f}\".format(np.std(CVaR_t_arr1)), ')')\n",
    "print('df = 7 ', ';','VaR*', \"{:.3f}\".format(1.895), ';','CVaR*', \"{:.3f}\".format(2.595), ';','VaR_SGLD', \"{:.3f}\".format(np.mean(VaR_t_arr2)), '(',\"{:.3f}\".format(np.std(VaR_t_arr2)), ')',  ';','CVaR_SGLD', \"{:.3f}\".format(np.mean(CVaR_t_arr2)), '(',\"{:.4f}\".format(np.std(CVaR_t_arr2)), ')')\n",
    "print('df = 3 ', ';','VaR*', 2.353, ';','CVaR*', 3.876, ';','VaR_SGLD', \"{:.3f}\".format(np.mean(VaR_t_arr3)), '(',\"{:.3f}\".format(np.std(VaR_t_arr3)), ')',  ';','CVaR_SGLD', \"{:.3f}\".format(np.mean(CVaR_t_arr3)), '(',\"{:.4f}\".format(np.std(CVaR_t_arr3)), ')')\n",
    "print('\\n')\n",
    "print('----------------------------------------q_hat = 0.99----------------------------------------')\n",
    "print('df = 10', ';', 'VaR*', \"{:.3f}\".format(2.764), ';', 'CVaR*', \"{:.3f}\".format(3.357), ';','VaR_SGLD', \"{:.3f}\".format(np.mean(VaR_t_arr11)), '(',\"{:.3f}\".format(np.std(VaR_t_arr11)), ')', ';','CVaR_SGLD', \"{:.3f}\".format(np.mean(CVaR_t_arr11)), '(',\"{:.4f}\".format(np.std(CVaR_t_arr11)), ')')\n",
    "print('df = 7 ', ';', 'VaR*', \"{:.3f}\".format(2.998), ';', 'CVaR*', \"{:.3f}\".format(3.757), ';','VaR_SGLD', \"{:.3f}\".format(np.mean(VaR_t_arr22)), '(',\"{:.3f}\".format(np.std(VaR_t_arr22)), ')',  ';', 'CVaR_SGLD', \"{:.3f}\".format(np.mean(CVaR_t_arr22)), '(',\"{:.4f}\".format(np.std(CVaR_t_arr22)), ')')\n",
    "print('df = 3 ', ';', 'VaR*', 4.541, ';', 'CVaR*', 6.968, ';','VaR_SGLD', \"{:.3f}\".format(np.mean(VaR_t_arr33)), '(',\"{:.3f}\".format(np.std(VaR_t_arr33)), ')',  ';','CVaR_SGLD', \"{:.3f}\".format(np.mean(CVaR_t_arr33)), '(',\"{:.4f}\".format(np.std(CVaR_t_arr33)), ')')"
   ]
  },
  {
   "cell_type": "code",
   "execution_count": null,
   "id": "e6045aa0",
   "metadata": {},
   "outputs": [],
   "source": []
  },
  {
   "cell_type": "markdown",
   "id": "4bfff394",
   "metadata": {},
   "source": [
    "### Task 2"
   ]
  },
  {
   "cell_type": "code",
   "execution_count": 55,
   "id": "73a4e40a",
   "metadata": {},
   "outputs": [],
   "source": [
    "def weight(W):\n",
    "    val = np.exp(W) / np.sum(np.exp(W))\n",
    "    return val\n",
    "\n",
    "def H1(theta, y, W, gamma):\n",
    "    a_hat = 0.95\n",
    "    indicator = 1.0 if np.sum(weight(W) * y) >= theta else 0.0 #(np.sum(Weight(W) * y) >= theta).astype(int)\n",
    "    \n",
    "    val1 = 1.0 - 1.0 / (1.0 - a_hat) * indicator + 2.0 * gamma * theta #number\n",
    "    \n",
    "    L = len(W)\n",
    "    H = np.zeros(L)\n",
    "    for j in range(L):\n",
    "        g_hat = 0\n",
    "        \n",
    "        for i in range(L):\n",
    "            if i == j:\n",
    "                der = np.exp(W[j]) * np.sum(np.exp(np.delete(W,j))) / (np.sum(np.exp(W))) ** 2\n",
    "            else:\n",
    "                der = -np.exp(W[i]) * np.exp(W[j]) / (np.sum(np.exp(W))) ** 2\n",
    "            g_hat += y[i] * der\n",
    "            \n",
    "        H[j] = 1.0 / (1.0 - a_hat) * indicator * g_hat + 2.0 * gamma * W[j]\n",
    "    return np.insert(H, 0, val1)\n",
    "\n",
    "def ref_val(y):\n",
    "    N = 100\n",
    "    w = np.linspace(0, 1, N)\n",
    "    res = 10 ** 8\n",
    "    for i in range(N):\n",
    "        w1 = w[i]\n",
    "        for j in range(N):\n",
    "            w2 = w[j]\n",
    "            w3 = 1.0 - w1 - w2\n",
    "\n",
    "            portfolio_LP = w1 * y[0] + w2 * y[1] + w3 * y[2]\n",
    "\n",
    "            VaR = np.quantile(portfolio_LP, 0.95)\n",
    "            CVaR = np.mean(portfolio_LP[portfolio_LP >= VaR])\n",
    "\n",
    "            if CVaR <= res:\n",
    "                res = CVaR\n",
    "                res_arr = [w1, w2, w3, VaR, CVaR]\n",
    "    return res_arr\n",
    "\n",
    "def multi_assets(params):\n",
    "    mu1, var1, mu2, var2, mu3, var3 = params\n",
    "\n",
    "    n = 10 ** 6\n",
    "    l = 10 ** (-4)\n",
    "    beta = 10 ** 8\n",
    "    gamma = 10 ** (-8)\n",
    "    a_hat = 0.95\n",
    "    m = 3 #assets number\n",
    "\n",
    "    y1 = norm.rvs(loc = mu1, scale = var1**0.5, size = n) #data 1st asset\n",
    "    y2 = norm.rvs(loc = mu2, scale = var2**0.5, size = n) #data 2st asset\n",
    "    y3 = norm.rvs(loc = mu3, scale = var3**0.5, size = n) #data 3st asset\n",
    "    y = np.array([y1, y2, y3])\n",
    "    y_T = y.T\n",
    "    ksi = norm.rvs(loc = 0, scale = 1, size = (n, m+1)) #noise\n",
    "\n",
    "    theta_old = np.zeros(m+1)\n",
    "\n",
    "    for i in range(n):\n",
    "        theta_new = theta_old - l * H1(theta_old[0], y_T[i], theta_old[1:], gamma) + ksi[i] * (2 * l / beta) ** 0.5\n",
    "        theta_old = theta_new\n",
    "\n",
    "    V = np.mean(np.maximum(weight(theta_new[1:]) @ y - theta_new[0], 0)) / (1-a_hat) + theta_new[0]\n",
    "\n",
    "    return weight(theta_new[1:]), theta_new[0], V, ref_val(y)\n"
   ]
  },
  {
   "cell_type": "code",
   "execution_count": null,
   "id": "6b46f8d2",
   "metadata": {},
   "outputs": [],
   "source": []
  },
  {
   "cell_type": "code",
   "execution_count": 56,
   "id": "d8e8bc28",
   "metadata": {},
   "outputs": [
    {
     "name": "stdout",
     "output_type": "stream",
     "text": [
      "execution time in sec, 1534.6840751171112\n"
     ]
    }
   ],
   "source": [
    "start = TIME()\n",
    "weights1, VaR1, CVaR1, ref_val1 = multi_assets([500, 1, 0, 10**6, 0, 10**-4])\n",
    "weights2, VaR2, CVaR2, ref_val2 = multi_assets([500, 1, 0, 10**6, 0, 1])\n",
    "weights3, VaR3, CVaR3, ref_val3 = multi_assets([0, 10**3, 0, 1, 0, 4])\n",
    "weights4, VaR4, CVaR4, ref_val4 = multi_assets([0, 1, 1, 4, 0, 10**-4])\n",
    "weights5, VaR5, CVaR5, ref_val5 = multi_assets([0, 1, 1, 4, 2, 1])\n",
    "end = TIME()\n",
    "print('execution time in sec,', end - start)"
   ]
  },
  {
   "cell_type": "code",
   "execution_count": 75,
   "id": "b7488c19",
   "metadata": {},
   "outputs": [
    {
     "name": "stdout",
     "output_type": "stream",
     "text": [
      "---------------------------------------------------------------------------------q_hat = 0.95------------------------------------------------------------------------------------------\n",
      "mu, var: [500, 1  | 0, 10^6 | 0, 10^-4] ; Weights* ['0.000', '0.000', '1.000'] ; VaR* 0.016 ; CVaR* 0.021 ; Weights_SGLD ['0.000', '0.000', '1.000'] ; VaR_SGLD 0.022 ; CVaR_SGLD 0.025\n",
      "mu, var: [500, 1  | 0, 10^6 | 0, 1    ] ; Weights* ['0.000', '0.000', '1.000'] ; VaR* 1.650 ; CVaR* 2.064 ; Weights_SGLD ['0.000', '0.000', '1.000'] ; VaR_SGLD 1.625 ; CVaR_SGLD 2.070\n",
      "mu, var: [0, 10^3 | 0, 1    | 0, 4    ] ; Weights* ['0.000', '0.798', '0.202'] ; VaR* 1.472 ; CVaR* 1.845 ; Weights_SGLD ['0.002', '0.801', '0.198'] ; VaR_SGLD 1.478 ; CVaR_SGLD 1.845\n",
      "mu, var: [0, 1    | 1, 4    | 0, 10^-4] ; Weights* ['0.000', '0.000', '1.000'] ; VaR* 0.016 ; CVaR* 0.021 ; Weights_SGLD ['0.003', '0.001', '0.995'] ; VaR_SGLD 0.021 ; CVaR_SGLD 0.024\n",
      "mu, var: [0, 1    | 1, 4    | 2, 1    ] ; Weights* ['0.889', '0.111', '0.000'] ; VaR* 1.617 ; CVaR* 1.998 ; Weights_SGLD ['0.862', '0.101', '0.037'] ; VaR_SGLD 1.615 ; CVaR_SGLD 2.000\n"
     ]
    }
   ],
   "source": [
    "print('---------------------------------------------------------------------------------q_hat = 0.95------------------------------------------------------------------------------------------')\n",
    "print('mu, var: [500, 1  | 0, 10^6 | 0, 10^-4]', ';','Weights*',  [f\"{num:.3f}\" for num in ref_val1[:3]],  ';', 'VaR*', \"{:.3f}\".format(ref_val1[3]), ';', 'CVaR*', \"{:.3f}\".format(ref_val1[4]), ';', 'Weights_SGLD', [f\"{num:.3f}\" for num in weights1], ';', 'VaR_SGLD', \"{:.3f}\".format(VaR1), ';', 'CVaR_SGLD', \"{:.3f}\".format(CVaR1))\n",
    "print('mu, var: [500, 1  | 0, 10^6 | 0, 1    ]', ';','Weights*',  [f\"{num:.3f}\" for num in ref_val2[:3]],  ';', 'VaR*', \"{:.3f}\".format(ref_val2[3]), ';', 'CVaR*', \"{:.3f}\".format(ref_val2[4]), ';', 'Weights_SGLD', [f\"{num:.3f}\" for num in weights2], ';', 'VaR_SGLD', \"{:.3f}\".format(VaR2), ';', 'CVaR_SGLD', \"{:.3f}\".format(CVaR2))\n",
    "print('mu, var: [0, 10^3 | 0, 1    | 0, 4    ]',';', 'Weights*',  [f\"{num:.3f}\" for num in ref_val3[:3]],  ';', 'VaR*', \"{:.3f}\".format(ref_val3[3]), ';', 'CVaR*', \"{:.3f}\".format(ref_val3[4]), ';', 'Weights_SGLD', [f\"{num:.3f}\" for num in weights3], ';', 'VaR_SGLD', \"{:.3f}\".format(VaR3), ';', 'CVaR_SGLD', \"{:.3f}\".format(CVaR3))\n",
    "print('mu, var: [0, 1    | 1, 4    | 0, 10^-4]',';', 'Weights*',  [f\"{num:.3f}\" for num in ref_val4[:3]],  ';', 'VaR*', \"{:.3f}\".format(ref_val4[3]), ';', 'CVaR*', \"{:.3f}\".format(ref_val4[4]), ';', 'Weights_SGLD', [f\"{num:.3f}\" for num in weights4], ';', 'VaR_SGLD', \"{:.3f}\".format(VaR4), ';', 'CVaR_SGLD', \"{:.3f}\".format(CVaR4))\n",
    "print('mu, var: [0, 1    | 1, 4    | 2, 1    ]',';', 'Weights*',  [f\"{abs(num):.3f}\" for num in ref_val5[:3]],  ';', 'VaR*', \"{:.3f}\".format(ref_val5[3]), ';', 'CVaR*', \"{:.3f}\".format(ref_val5[4]), ';', 'Weights_SGLD', [f\"{num:.3f}\" for num in weights5], ';', 'VaR_SGLD', \"{:.3f}\".format(VaR5), ';', 'CVaR_SGLD', \"{:.3f}\".format(CVaR5))"
   ]
  },
  {
   "cell_type": "code",
   "execution_count": null,
   "id": "8e3d629a",
   "metadata": {},
   "outputs": [],
   "source": []
  }
 ],
 "metadata": {
  "kernelspec": {
   "display_name": "Python 3 (ipykernel)",
   "language": "python",
   "name": "python3"
  },
  "language_info": {
   "codemirror_mode": {
    "name": "ipython",
    "version": 3
   },
   "file_extension": ".py",
   "mimetype": "text/x-python",
   "name": "python",
   "nbconvert_exporter": "python",
   "pygments_lexer": "ipython3",
   "version": "3.10.13"
  }
 },
 "nbformat": 4,
 "nbformat_minor": 5
}
