{
 "cells": [
  {
   "cell_type": "code",
   "execution_count": 1,
   "id": "d4ef8754",
   "metadata": {},
   "outputs": [],
   "source": [
    "import numpy as np \n",
    "import seaborn as sns\n",
    "import matplotlib.pyplot as plt\n",
    "from matplotlib import ticker\n",
    "from scipy.stats import norm\n",
    "import math\n",
    "from time import time as TIME"
   ]
  },
  {
   "cell_type": "code",
   "execution_count": 2,
   "id": "b919fc84",
   "metadata": {},
   "outputs": [],
   "source": [
    "def H(theta, y, a, gamma):\n",
    "    ind = (y >= theta).astype(int)\n",
    "    val = 1.0 -  ind / (1-a) + 2 * gamma * theta\n",
    "    return val"
   ]
  },
  {
   "cell_type": "code",
   "execution_count": null,
   "id": "db6c76f6",
   "metadata": {},
   "outputs": [],
   "source": []
  },
  {
   "cell_type": "code",
   "execution_count": 3,
   "id": "576d871b",
   "metadata": {},
   "outputs": [],
   "source": [
    "def single_asset(a_hat, mu, sigma):\n",
    "    start = TIME()\n",
    "\n",
    "    N = 100\n",
    "    n = 10 ** 6\n",
    "    l = 10 ** (-4)\n",
    "    beta = 10 ** 8\n",
    "    gamma = 10 ** (-8)\n",
    "    #a_hat = 0.95\n",
    "\n",
    "    #mu, sigma = 0, 1\n",
    "\n",
    "    res_arr = np.zeros((N, 2)) #value of VaR and AVaR estimates\n",
    "\n",
    "    y = norm.rvs(loc = mu, scale = sigma, size = (n, N)) #data\n",
    "    ksi = norm.rvs(loc = 0, scale = 1, size = (n, N)) #noise\n",
    "\n",
    "    theta_old = np.zeros(N)\n",
    "\n",
    "    for i in range(n):\n",
    "        theta_new = theta_old - l * H(theta_old, y[i], a_hat, gamma) + ksi[i] * (2 * l / beta) ** 0.5\n",
    "        theta_old = theta_new\n",
    "\n",
    "    V = np.mean( np.maximum( y.T - theta_new.reshape(N, -1), 0), 1) / (1-a_hat) + theta_new\n",
    "\n",
    "    end = TIME()\n",
    "    #print(end - start)\n",
    "    return theta_new, V"
   ]
  },
  {
   "cell_type": "code",
   "execution_count": 7,
   "id": "b0124977",
   "metadata": {},
   "outputs": [],
   "source": [
    "VaR_arr1, CVaR_arr1 = single_asset(0.95, 0, 1)"
   ]
  },
  {
   "cell_type": "code",
   "execution_count": 127,
   "id": "cb9f2077",
   "metadata": {},
   "outputs": [],
   "source": [
    "VaR_arr2, CVaR_arr2 = single_asset(0.95, 1, 2)"
   ]
  },
  {
   "cell_type": "code",
   "execution_count": 128,
   "id": "d1012576",
   "metadata": {},
   "outputs": [],
   "source": [
    "VaR_arr3, CVaR_arr3 = single_asset(0.95, 3, 5)"
   ]
  },
  {
   "cell_type": "code",
   "execution_count": 129,
   "id": "0b1ac107",
   "metadata": {},
   "outputs": [],
   "source": [
    "VaR_arr11, CVaR_arr11 = single_asset(0.99, 0, 1)"
   ]
  },
  {
   "cell_type": "code",
   "execution_count": 130,
   "id": "6309c2e7",
   "metadata": {},
   "outputs": [],
   "source": [
    "VaR_arr22, CVaR_arr22 = single_asset(0.99, 1, 2)"
   ]
  },
  {
   "cell_type": "code",
   "execution_count": 131,
   "id": "2bd3f84d",
   "metadata": {},
   "outputs": [],
   "source": [
    "VaR_arr33, CVaR_arr33 = single_asset(0.99, 3, 5)"
   ]
  },
  {
   "cell_type": "code",
   "execution_count": null,
   "id": "c3afd890",
   "metadata": {},
   "outputs": [],
   "source": []
  },
  {
   "cell_type": "code",
   "execution_count": 132,
   "id": "39a5c3c0",
   "metadata": {},
   "outputs": [
    {
     "name": "stdout",
     "output_type": "stream",
     "text": [
      "[1.64420406 2.06274902]\n",
      "[0.01937561 0.0023006 ]\n"
     ]
    }
   ],
   "source": [
    "print(np.mean([VaR_arr1, CVaR_arr1], 1))\n",
    "print(np.std([VaR_arr1, CVaR_arr1], 1))"
   ]
  },
  {
   "cell_type": "code",
   "execution_count": 133,
   "id": "a922dbfc",
   "metadata": {},
   "outputs": [
    {
     "name": "stdout",
     "output_type": "stream",
     "text": [
      "[4.29172792 5.12561988]\n",
      "[0.03420942 0.00482517]\n"
     ]
    }
   ],
   "source": [
    "print(np.mean([VaR_arr2, CVaR_arr2], 1))\n",
    "print(np.std([VaR_arr2, CVaR_arr2], 1))"
   ]
  },
  {
   "cell_type": "code",
   "execution_count": 134,
   "id": "e8a6363f",
   "metadata": {},
   "outputs": [
    {
     "name": "stdout",
     "output_type": "stream",
     "text": [
      "[11.22771291 13.31403562]\n",
      "[0.04867111 0.01181514]\n"
     ]
    }
   ],
   "source": [
    "print(np.mean([VaR_arr3, CVaR_arr3], 1))\n",
    "print(np.std([VaR_arr3, CVaR_arr3], 1))"
   ]
  },
  {
   "cell_type": "code",
   "execution_count": 135,
   "id": "bdef6031",
   "metadata": {},
   "outputs": [
    {
     "name": "stdout",
     "output_type": "stream",
     "text": [
      "[2.32984482 2.66675354]\n",
      "[0.03772135 0.00476271]\n"
     ]
    }
   ],
   "source": [
    "print(np.mean([VaR_arr11, CVaR_arr11], 1))\n",
    "print(np.std([VaR_arr11, CVaR_arr11], 1))"
   ]
  },
  {
   "cell_type": "code",
   "execution_count": 136,
   "id": "6060b51c",
   "metadata": {},
   "outputs": [
    {
     "name": "stdout",
     "output_type": "stream",
     "text": [
      "[5.66011068 6.33214605]\n",
      "[0.0611838 0.0094544]\n"
     ]
    }
   ],
   "source": [
    "print(np.mean([VaR_arr22, CVaR_arr22], 1))\n",
    "print(np.std([VaR_arr22, CVaR_arr22], 1))"
   ]
  },
  {
   "cell_type": "code",
   "execution_count": 137,
   "id": "052975df",
   "metadata": {},
   "outputs": [
    {
     "name": "stdout",
     "output_type": "stream",
     "text": [
      "[14.6352855  16.33115655]\n",
      "[0.10794006 0.02683649]\n"
     ]
    }
   ],
   "source": [
    "print(np.mean([VaR_arr33, CVaR_arr33], 1))\n",
    "print(np.std([VaR_arr33, CVaR_arr33], 1))"
   ]
  },
  {
   "cell_type": "code",
   "execution_count": 157,
   "id": "8354f8d3",
   "metadata": {},
   "outputs": [
    {
     "data": {
      "text/plain": [
       "250.47682034259043"
      ]
     },
     "execution_count": 157,
     "metadata": {},
     "output_type": "execute_result"
    }
   ],
   "source": [
    "weight(theta_old[1:]) @ np.array([y1[i], y2[i]])"
   ]
  },
  {
   "cell_type": "code",
   "execution_count": 158,
   "id": "f35e694f",
   "metadata": {},
   "outputs": [
    {
     "data": {
      "text/plain": [
       "250.47682034259043"
      ]
     },
     "execution_count": 158,
     "metadata": {},
     "output_type": "execute_result"
    }
   ],
   "source": [
    "np.sum(weight(theta_old[1:]) * np.array([y1[i], y2[i]]))"
   ]
  },
  {
   "cell_type": "code",
   "execution_count": 162,
   "id": "a080ddf2",
   "metadata": {},
   "outputs": [
    {
     "data": {
      "text/plain": [
       "array([0.50000324])"
      ]
     },
     "execution_count": 162,
     "metadata": {},
     "output_type": "execute_result"
    }
   ],
   "source": [
    "np.delete(theta_old[1:], 0)"
   ]
  },
  {
   "cell_type": "code",
   "execution_count": 163,
   "id": "1c3538e0",
   "metadata": {},
   "outputs": [
    {
     "data": {
      "text/plain": [
       "array([0.50000486, 0.50000324])"
      ]
     },
     "execution_count": 163,
     "metadata": {},
     "output_type": "execute_result"
    }
   ],
   "source": [
    "theta_old[1:]"
   ]
  },
  {
   "cell_type": "code",
   "execution_count": 190,
   "id": "530b8c1c",
   "metadata": {},
   "outputs": [
    {
     "data": {
      "text/plain": [
       "array([100.        ,  -5.75730047,   5.75722078])"
      ]
     },
     "execution_count": 190,
     "metadata": {},
     "output_type": "execute_result"
    }
   ],
   "source": [
    "np.insert(theta_old[1:], 0, 100)"
   ]
  },
  {
   "cell_type": "code",
   "execution_count": 4,
   "id": "73a4e40a",
   "metadata": {},
   "outputs": [],
   "source": [
    "def weight(W):\n",
    "    val = np.exp(W) / np.sum(np.exp(W))\n",
    "    return val\n",
    "\n",
    "def H1(theta, y, W, gamma):\n",
    "    a_hat = 0.95\n",
    "    indicator = 1.0 if np.sum(weight(W) * y) >= theta else 0.0 #(np.sum(Weight(W) * y) >= theta).astype(int)\n",
    "    \n",
    "    val1 = 1.0 - 1.0 / (1.0 - a_hat) * indicator + 2.0 * gamma * theta #number\n",
    "    \n",
    "    L = len(W)\n",
    "    H = np.zeros(L)\n",
    "    for j in range(L):\n",
    "        g_hat = 0\n",
    "        \n",
    "        for i in range(L):\n",
    "            if i == j:\n",
    "                der = np.exp(W[j]) * np.sum(np.exp(np.delete(W,j))) / (np.sum(np.exp(W))) ** 2\n",
    "            else:\n",
    "                der = -np.exp(W[i]) * np.exp(W[j]) / (np.sum(np.exp(W))) ** 2\n",
    "            g_hat += y[i] * der\n",
    "            \n",
    "        H[j] = 1.0 / (1.0 - a_hat) * indicator * g_hat + 2.0 * gamma * W[j]\n",
    "    return np.insert(H, 0, val1)\n",
    "\n",
    "def ref_val1(y):\n",
    "    N = 100\n",
    "    w = np.linspace(0, 1, N)\n",
    "    res = 10 ** 8\n",
    "    for i in range(N):\n",
    "        w1 = w[i]\n",
    "        for j in range(N):\n",
    "            w2 = w[j]\n",
    "            w3 = 1.0 - w1 - w2\n",
    "\n",
    "            portfolio_LP = w1 * y[0] + w2 * y[1] + w3 * y[2]\n",
    "\n",
    "            VaR = np.quantile(portfolio_LP, 0.95)\n",
    "            CVaR = np.mean(portfolio_LP[portfolio_LP >= VaR])\n",
    "\n",
    "            if CVaR <= res:\n",
    "                res = CVaR\n",
    "                res_arr = [w1, w2, w3, VaR, CVaR]\n",
    "    return res_arr\n",
    "\n",
    "def ref_val(y):\n",
    "    N = 150\n",
    "    w = np.linspace(0, 1, N)\n",
    "    \n",
    "    w1 = w.reshape(-1, 1, 1)\n",
    "    w2 = w.reshape(1, -1, 1)\n",
    "    w3 = 1.0 - w1 - w2\n",
    "    \n",
    "    portfolio_LP = w1 * y[0] + w2 * y[1] + w3 * y[2]\n",
    "    \n",
    "    VaR = np.quantile(portfolio_LP, 0.95, axis=2)\n",
    "    CVaR = np.nanmean(np.where(portfolio_LP >= VaR.reshape(1, 1, -1), portfolio_LP, np.nan), axis=2)\n",
    "    \n",
    "    idx = np.nanargmin(CVaR)\n",
    "    \n",
    "    res_arr = [w[idx // N], w[idx % N], 1.0 - w[idx // N] - w[idx % N], VaR[0, idx], CVaR[0, idx]]\n",
    "    \n",
    "    return res_arr"
   ]
  },
  {
   "cell_type": "code",
   "execution_count": 5,
   "id": "0a379c45",
   "metadata": {},
   "outputs": [],
   "source": [
    "def multi_assets(params):\n",
    "    mu1, var1, mu2, var2, mu3, var3 = params\n",
    "    start = TIME()\n",
    "\n",
    "    n = 10 ** 6\n",
    "    l = 10 ** (-4)\n",
    "    beta = 10 ** 8\n",
    "    gamma = 10 ** (-8)\n",
    "    a_hat = 0.95\n",
    "    m = 3 #assets number\n",
    "\n",
    "    y1 = norm.rvs(loc = mu1, scale = var1**0.5, size = n) #data 1st asset\n",
    "    y2 = norm.rvs(loc = mu2, scale = var2**0.5, size = n) #data 2st asset\n",
    "    y3 = norm.rvs(loc = mu3, scale = var3**0.5, size = n) #data 3st asset\n",
    "    y = np.array([y1, y2, y3])\n",
    "    y_T = y.T\n",
    "    ksi = norm.rvs(loc = 0, scale = 1, size = (n, m+1)) #noise\n",
    "\n",
    "    theta_old = np.zeros(m+1)\n",
    "\n",
    "    for i in range(n):\n",
    "        theta_new = theta_old - l * H1(theta_old[0], y_T[i], theta_old[1:], gamma) + ksi[i] * (2 * l / beta) ** 0.5\n",
    "        theta_old = theta_new\n",
    "\n",
    "    V = np.mean(np.maximum(weight(theta_new[1:]) @ y - theta_new[0], 0)) / (1-a_hat) + theta_new[0]\n",
    "\n",
    "    end = TIME()\n",
    "    #print(end - start)\n",
    "    return weight(theta_new[1:]), theta_new[0], V#, ref_val(y)#, y#, ref_val1(y)"
   ]
  },
  {
   "cell_type": "code",
   "execution_count": null,
   "id": "6b46f8d2",
   "metadata": {},
   "outputs": [],
   "source": []
  },
  {
   "cell_type": "code",
   "execution_count": 13,
   "id": "d8e8bc28",
   "metadata": {},
   "outputs": [
    {
     "name": "stdout",
     "output_type": "stream",
     "text": [
      "(array([6.95073828e-06, 3.01745692e-06, 9.99990032e-01]), 0.02343955384217421, 0.025679992040724478)\n",
      "[0.0, 0.0, 1.0, 0.016449095894498177, 0.020637334524107206]\n",
      "94.90452909469604\n"
     ]
    }
   ],
   "source": [
    "start = TIME()\n",
    "res = multi_assets([500, 1, 0, 10**6, 0, 10**-4])\n",
    "print(res[:-1])\n",
    "print(res[-1])\n",
    "end = TIME()\n",
    "print(end - start)"
   ]
  },
  {
   "cell_type": "code",
   "execution_count": 16,
   "id": "6845727e",
   "metadata": {},
   "outputs": [
    {
     "name": "stdout",
     "output_type": "stream",
     "text": [
      "(array([8.64348681e-06, 1.94437794e-05, 9.99971913e-01]), 1.6647200245358602, 2.0685504923752407)\n",
      "[0.0, 0.0, 1.0, 1.6473975706496953, 2.063613538535911]\n",
      "93.98094010353088\n"
     ]
    }
   ],
   "source": [
    "start = TIME()\n",
    "res = multi_assets([500, 1, 0, 10**6, 0, 1])\n",
    "print(res[:-1])\n",
    "print(res[-1])\n",
    "end = TIME()\n",
    "print(end - start)"
   ]
  },
  {
   "cell_type": "code",
   "execution_count": 6,
   "id": "5fc14206",
   "metadata": {},
   "outputs": [
    {
     "name": "stdout",
     "output_type": "stream",
     "text": [
      "(array([0.00156756, 0.79619441, 0.20223803]), 1.4472968061387834)\n",
      "1.8426126284193736\n",
      "48.97334027290344\n"
     ]
    }
   ],
   "source": [
    "start = TIME()\n",
    "res = multi_assets([0, 10**3, 0, 1, 0, 4])\n",
    "print(res[:-1])\n",
    "print(res[-1])\n",
    "end = TIME()\n",
    "print(end - start)"
   ]
  },
  {
   "cell_type": "code",
   "execution_count": null,
   "id": "548634f2",
   "metadata": {},
   "outputs": [],
   "source": [
    "res = multi_assets([0, 10**3, 0, 1, 0, 4])"
   ]
  },
  {
   "cell_type": "code",
   "execution_count": 1,
   "id": "0f5753e1",
   "metadata": {},
   "outputs": [
    {
     "ename": "NameError",
     "evalue": "name 'res' is not defined",
     "output_type": "error",
     "traceback": [
      "\u001b[0;31m---------------------------------------------------------------------------\u001b[0m",
      "\u001b[0;31mNameError\u001b[0m                                 Traceback (most recent call last)",
      "Input \u001b[0;32mIn [1]\u001b[0m, in \u001b[0;36m<cell line: 1>\u001b[0;34m()\u001b[0m\n\u001b[0;32m----> 1\u001b[0m \u001b[43mres\u001b[49m[\u001b[38;5;241m0\u001b[39m]\n",
      "\u001b[0;31mNameError\u001b[0m: name 'res' is not defined"
     ]
    }
   ],
   "source": [
    "res[0]"
   ]
  },
  {
   "cell_type": "code",
   "execution_count": 2,
   "id": "8190b707",
   "metadata": {},
   "outputs": [
    {
     "ename": "NameError",
     "evalue": "name 'np' is not defined",
     "output_type": "error",
     "traceback": [
      "\u001b[0;31m---------------------------------------------------------------------------\u001b[0m",
      "\u001b[0;31mNameError\u001b[0m                                 Traceback (most recent call last)",
      "Input \u001b[0;32mIn [2]\u001b[0m, in \u001b[0;36m<cell line: 1>\u001b[0;34m()\u001b[0m\n\u001b[0;32m----> 1\u001b[0m \u001b[43mnp\u001b[49m\u001b[38;5;241m.\u001b[39msum([\u001b[38;5;241m1\u001b[39m,\u001b[38;5;241m2\u001b[39m])\n",
      "\u001b[0;31mNameError\u001b[0m: name 'np' is not defined"
     ]
    }
   ],
   "source": [
    "np.sum([1,2])"
   ]
  },
  {
   "cell_type": "code",
   "execution_count": 47,
   "id": "d9775343",
   "metadata": {},
   "outputs": [
    {
     "data": {
      "text/plain": [
       "1.0067114093959733"
      ]
     },
     "execution_count": 47,
     "metadata": {},
     "output_type": "execute_result"
    }
   ],
   "source": [
    "sum(res[-2][:3])"
   ]
  },
  {
   "cell_type": "code",
   "execution_count": 37,
   "id": "e0473fed",
   "metadata": {},
   "outputs": [
    {
     "data": {
      "text/plain": [
       "1.8484435849909215"
      ]
     },
     "execution_count": 37,
     "metadata": {},
     "output_type": "execute_result"
    }
   ],
   "source": [
    "res[2]"
   ]
  },
  {
   "cell_type": "code",
   "execution_count": 38,
   "id": "7a26b3ff",
   "metadata": {},
   "outputs": [
    {
     "data": {
      "text/plain": [
       "4.111616324698849"
      ]
     },
     "execution_count": 38,
     "metadata": {},
     "output_type": "execute_result"
    }
   ],
   "source": [
    "res[-2][-1]"
   ]
  },
  {
   "cell_type": "code",
   "execution_count": 40,
   "id": "cf86c0de",
   "metadata": {},
   "outputs": [
    {
     "data": {
      "text/plain": [
       "3"
      ]
     },
     "execution_count": 40,
     "metadata": {},
     "output_type": "execute_result"
    }
   ],
   "source": [
    "res[-1]"
   ]
  },
  {
   "cell_type": "code",
   "execution_count": 41,
   "id": "eb4e98be",
   "metadata": {},
   "outputs": [],
   "source": [
    "y = res[-1]\n",
    "w1,w2,w3 = res[-2][:3]\n",
    "portfolio_LP = w1 * y[0] + w2 * y[1] + w3 * y[2]\n",
    "\n",
    "VaR = np.quantile(portfolio_LP, 0.95)\n",
    "CVaR = np.mean(portfolio_LP[portfolio_LP >= VaR])"
   ]
  },
  {
   "cell_type": "code",
   "execution_count": 42,
   "id": "a6e60fc2",
   "metadata": {
    "scrolled": true
   },
   "outputs": [
    {
     "data": {
      "text/plain": [
       "4.111616324698852"
      ]
     },
     "execution_count": 42,
     "metadata": {},
     "output_type": "execute_result"
    }
   ],
   "source": [
    "CVaR"
   ]
  },
  {
   "cell_type": "code",
   "execution_count": 43,
   "id": "830e79a1",
   "metadata": {},
   "outputs": [],
   "source": [
    "y = res[-1]\n",
    "w1,w2,w3 = res[0]\n",
    "portfolio_LP = w1 * y[0] + w2 * y[1] + w3 * y[2]\n",
    "\n",
    "VaR = np.quantile(portfolio_LP, 0.95)\n",
    "CVaR = np.mean(portfolio_LP[portfolio_LP >= VaR])"
   ]
  },
  {
   "cell_type": "code",
   "execution_count": 44,
   "id": "5327bc52",
   "metadata": {},
   "outputs": [
    {
     "data": {
      "text/plain": [
       "1.8483135292831983"
      ]
     },
     "execution_count": 44,
     "metadata": {},
     "output_type": "execute_result"
    }
   ],
   "source": [
    "CVaR"
   ]
  },
  {
   "cell_type": "code",
   "execution_count": 45,
   "id": "d28186b9",
   "metadata": {},
   "outputs": [
    {
     "data": {
      "text/plain": [
       "array([0.0015349 , 0.79823866, 0.20022644])"
      ]
     },
     "execution_count": 45,
     "metadata": {},
     "output_type": "execute_result"
    }
   ],
   "source": [
    "res[0]"
   ]
  },
  {
   "cell_type": "code",
   "execution_count": 46,
   "id": "7ead5053",
   "metadata": {},
   "outputs": [
    {
     "data": {
      "text/plain": [
       "1.472121942184292"
      ]
     },
     "execution_count": 46,
     "metadata": {},
     "output_type": "execute_result"
    }
   ],
   "source": [
    "VaR"
   ]
  },
  {
   "cell_type": "code",
   "execution_count": null,
   "id": "ff15d8c2",
   "metadata": {},
   "outputs": [],
   "source": [
    "y1 = norm.rvs(loc = mu1, scale = var1**0.5, size = n) #data 1st asset\n",
    "y2 = norm.rvs(loc = mu2, scale = var2**0.5, size = n) #data 2st asset\n",
    "y3 = norm.rvs(loc = mu3, scale = var3**0.5, size = n) #data 3st asset"
   ]
  }
 ],
 "metadata": {
  "kernelspec": {
   "display_name": "Python 3 (ipykernel)",
   "language": "python",
   "name": "python3"
  },
  "language_info": {
   "codemirror_mode": {
    "name": "ipython",
    "version": 3
   },
   "file_extension": ".py",
   "mimetype": "text/x-python",
   "name": "python",
   "nbconvert_exporter": "python",
   "pygments_lexer": "ipython3",
   "version": "3.9.10"
  }
 },
 "nbformat": 4,
 "nbformat_minor": 5
}
